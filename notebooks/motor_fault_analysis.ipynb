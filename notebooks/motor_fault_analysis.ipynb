{
 "cells": [
  {
   "cell_type": "markdown",
   "id": "83bc5e8a",
   "metadata": {},
   "source": [
    "# Induction Motor Fault Diagnosis - Data Exploration\n",
    "\n",
    "This notebook explores and analyzes the motor fault data to develop a diagnostic model."
   ]
  },
  {
   "cell_type": "markdown",
   "id": "c42674cb",
   "metadata": {},
   "source": [
    "## 1. Environment Setup and Data Loading\n",
    "\n",
    "First, let's import the required libraries and load our data."
   ]
  },
  {
   "cell_type": "code",
   "execution_count": 1,
   "id": "4f2a5911",
   "metadata": {},
   "outputs": [
    {
     "name": "stderr",
     "output_type": "stream",
     "text": [
      "Matplotlib is building the font cache; this may take a moment.\n"
     ]
    },
    {
     "ename": "ModuleNotFoundError",
     "evalue": "No module named 'seaborn'",
     "output_type": "error",
     "traceback": [
      "\u001b[31m---------------------------------------------------------------------------\u001b[39m",
      "\u001b[31mModuleNotFoundError\u001b[39m                       Traceback (most recent call last)",
      "\u001b[36mCell\u001b[39m\u001b[36m \u001b[39m\u001b[32mIn[1]\u001b[39m\u001b[32m, line 4\u001b[39m\n\u001b[32m      2\u001b[39m \u001b[38;5;28;01mimport\u001b[39;00m\u001b[38;5;250m \u001b[39m\u001b[34;01mpandas\u001b[39;00m\u001b[38;5;250m \u001b[39m\u001b[38;5;28;01mas\u001b[39;00m\u001b[38;5;250m \u001b[39m\u001b[34;01mpd\u001b[39;00m\n\u001b[32m      3\u001b[39m \u001b[38;5;28;01mimport\u001b[39;00m\u001b[38;5;250m \u001b[39m\u001b[34;01mmatplotlib\u001b[39;00m\u001b[34;01m.\u001b[39;00m\u001b[34;01mpyplot\u001b[39;00m\u001b[38;5;250m \u001b[39m\u001b[38;5;28;01mas\u001b[39;00m\u001b[38;5;250m \u001b[39m\u001b[34;01mplt\u001b[39;00m\n\u001b[32m----> \u001b[39m\u001b[32m4\u001b[39m \u001b[38;5;28;01mimport\u001b[39;00m\u001b[38;5;250m \u001b[39m\u001b[34;01mseaborn\u001b[39;00m\u001b[38;5;250m \u001b[39m\u001b[38;5;28;01mas\u001b[39;00m\u001b[38;5;250m \u001b[39m\u001b[34;01msns\u001b[39;00m\n\u001b[32m      5\u001b[39m \u001b[38;5;28;01mfrom\u001b[39;00m\u001b[38;5;250m \u001b[39m\u001b[34;01msklearn\u001b[39;00m\u001b[34;01m.\u001b[39;00m\u001b[34;01mpreprocessing\u001b[39;00m\u001b[38;5;250m \u001b[39m\u001b[38;5;28;01mimport\u001b[39;00m StandardScaler\n\u001b[32m      6\u001b[39m \u001b[38;5;28;01mfrom\u001b[39;00m\u001b[38;5;250m \u001b[39m\u001b[34;01msklearn\u001b[39;00m\u001b[34;01m.\u001b[39;00m\u001b[34;01mmodel_selection\u001b[39;00m\u001b[38;5;250m \u001b[39m\u001b[38;5;28;01mimport\u001b[39;00m train_test_split\n",
      "\u001b[31mModuleNotFoundError\u001b[39m: No module named 'seaborn'"
     ]
    }
   ],
   "source": [
    "import numpy as np\n",
    "import pandas as pd\n",
    "import matplotlib.pyplot as plt\n",
    "import seaborn as sns\n",
    "from sklearn.preprocessing import StandardScaler\n",
    "from sklearn.model_selection import train_test_split\n",
    "\n",
    "# Set display options\n",
    "pd.set_option('display.max_columns', None)\n",
    "plt.style.use('seaborn')"
   ]
  },
  {
   "cell_type": "code",
   "execution_count": null,
   "id": "575aff97",
   "metadata": {},
   "outputs": [],
   "source": [
    "# Load the motor fault data\n",
    "df = pd.read_csv('../data/sample_motor_data.csv')\n",
    "print(\"Dataset shape:\", df.shape)\n",
    "df.head()"
   ]
  },
  {
   "cell_type": "markdown",
   "id": "276d192f",
   "metadata": {},
   "source": [
    "## 2. Data Exploration and Analysis\n",
    "\n",
    "Let's examine the basic properties of our dataset."
   ]
  },
  {
   "cell_type": "code",
   "execution_count": null,
   "id": "7440bd1f",
   "metadata": {},
   "outputs": [],
   "source": [
    "# Display basic information about the dataset\n",
    "print(\"Dataset Info:\")\n",
    "print(\"-\" * 50)\n",
    "df.info()\n",
    "\n",
    "print(\"\\nBasic Statistics:\")\n",
    "print(\"-\" * 50)\n",
    "df.describe()"
   ]
  },
  {
   "cell_type": "code",
   "execution_count": null,
   "id": "04df1861",
   "metadata": {},
   "outputs": [],
   "source": [
    "# Check unique fault types and their distribution\n",
    "print(\"Fault Type Distribution:\")\n",
    "print(\"-\" * 50)\n",
    "fault_distribution = df['fault_type'].value_counts()\n",
    "print(fault_distribution)\n",
    "\n",
    "# Visualize fault distribution\n",
    "plt.figure(figsize=(10, 6))\n",
    "fault_distribution.plot(kind='bar')\n",
    "plt.title('Distribution of Motor Fault Types')\n",
    "plt.xlabel('Fault Type')\n",
    "plt.ylabel('Count')\n",
    "plt.xticks(rotation=45)\n",
    "plt.tight_layout()\n",
    "plt.show()"
   ]
  },
  {
   "cell_type": "markdown",
   "id": "7f499de1",
   "metadata": {},
   "source": [
    "## 3. Feature Analysis\n",
    "\n",
    "Analyze the relationship between different features and fault types."
   ]
  },
  {
   "cell_type": "code",
   "execution_count": null,
   "id": "e811b428",
   "metadata": {},
   "outputs": [],
   "source": [
    "# Create correlation matrix\n",
    "numeric_cols = ['temperature', 'vibration_amplitude', 'current', 'voltage', 'speed_rpm', 'noise_level']\n",
    "correlation_matrix = df[numeric_cols].corr()\n",
    "\n",
    "# Plot correlation heatmap\n",
    "plt.figure(figsize=(10, 8))\n",
    "sns.heatmap(correlation_matrix, annot=True, cmap='coolwarm', center=0)\n",
    "plt.title('Feature Correlation Matrix')\n",
    "plt.tight_layout()\n",
    "plt.show()"
   ]
  },
  {
   "cell_type": "markdown",
   "id": "c8323ae6",
   "metadata": {},
   "source": [
    "## 4. Feature Engineering and Preprocessing\n",
    "\n",
    "Prepare the data for modeling by scaling features and encoding categorical variables."
   ]
  },
  {
   "cell_type": "code",
   "execution_count": null,
   "id": "523b2fa5",
   "metadata": {},
   "outputs": [],
   "source": [
    "# Scale numerical features\n",
    "scaler = StandardScaler()\n",
    "df_scaled = df.copy()\n",
    "df_scaled[numeric_cols] = scaler.fit_transform(df[numeric_cols])\n",
    "\n",
    "# Create feature pairs plot\n",
    "sns.pairplot(df_scaled, hue='fault_type', vars=numeric_cols[:4])\n",
    "plt.show()"
   ]
  },
  {
   "cell_type": "markdown",
   "id": "54eb4493",
   "metadata": {},
   "source": [
    "## 5. Data Export\n",
    "\n",
    "Save the preprocessed data for model training."
   ]
  },
  {
   "cell_type": "code",
   "execution_count": null,
   "id": "9044b98f",
   "metadata": {},
   "outputs": [],
   "source": [
    "# Save processed data\n",
    "df_scaled.to_csv('../data/processed_motor_data.csv', index=False)\n",
    "print(\"Preprocessed data saved successfully!\")"
   ]
  },
  {
   "cell_type": "markdown",
   "id": "e1f528ff",
   "metadata": {},
   "source": [
    "## 6. Project Features & Environment Notes\n",
    "\n",
    "- Graphical User Interface (Tkinter) for easy data entry and diagnosis\n",
    "- Upload new CSV data and update the model instantly\n",
    "- Export diagnosis results to PDF\n",
    "- Model evaluation and confusion matrix visualization\n",
    "- Data distribution plots (seaborn)\n",
    "- Test model on live or simulated data\n",
    "- Online learning: add manual diagnosis to training data\n",
    "\n",
    "**Environment Requirements:**\n",
    "- Python 3.9 (recommended)\n",
    "- All dependencies in `pyproject.toml`\n",
    "- If using SHAP, Python <3.10 is required due to llvmlite limitation\n",
    "\n",
    "**How to Run:**\n",
    "1. Activate your Python 3.9 environment\n",
    "2. Install dependencies\n",
    "3. Run `main.py` to launch the GUI\n"
   ]
  }
 ],
 "metadata": {
  "kernelspec": {
   "display_name": "induction-motor-fault-diagnosis (3.12.0)",
   "language": "python",
   "name": "python3"
  },
  "language_info": {
   "codemirror_mode": {
    "name": "ipython",
    "version": 3
   },
   "file_extension": ".py",
   "mimetype": "text/x-python",
   "name": "python",
   "nbconvert_exporter": "python",
   "pygments_lexer": "ipython3",
   "version": "3.12.0"
  }
 },
 "nbformat": 4,
 "nbformat_minor": 5
}
